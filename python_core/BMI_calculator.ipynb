{
 "cells": [
  {
   "cell_type": "markdown",
   "id": "7fd54a75",
   "metadata": {},
   "source": [
    "# BMI Calculator"
   ]
  },
  {
   "cell_type": "code",
   "execution_count": 16,
   "id": "8ed9d648",
   "metadata": {},
   "outputs": [
    {
     "name": "stdout",
     "output_type": "stream",
     "text": [
      "enter weight in pounds: 171\n"
     ]
    }
   ],
   "source": [
    "weight = int(input(\"enter weight in pounds: \"))"
   ]
  },
  {
   "cell_type": "code",
   "execution_count": 17,
   "id": "f7c7d891",
   "metadata": {},
   "outputs": [
    {
     "name": "stdout",
     "output_type": "stream",
     "text": [
      "enter Height in inches: 70\n"
     ]
    }
   ],
   "source": [
    "height = int(input(\"enter Height in inches: \"))"
   ]
  },
  {
   "cell_type": "code",
   "execution_count": 18,
   "id": "7025404a",
   "metadata": {},
   "outputs": [
    {
     "name": "stdout",
     "output_type": "stream",
     "text": [
      "enter your name: Aman\n"
     ]
    }
   ],
   "source": [
    "name = input(\"enter your name: \")"
   ]
  },
  {
   "cell_type": "code",
   "execution_count": 19,
   "id": "58c1eba2",
   "metadata": {},
   "outputs": [],
   "source": [
    "BMI = (weight * 703) / (height * height)"
   ]
  },
  {
   "cell_type": "code",
   "execution_count": 20,
   "id": "d2b998b7",
   "metadata": {},
   "outputs": [
    {
     "name": "stdout",
     "output_type": "stream",
     "text": [
      "24.53\n"
     ]
    }
   ],
   "source": [
    "print(f\"{BMI:.2f}\")"
   ]
  },
  {
   "cell_type": "markdown",
   "id": "500b7b35",
   "metadata": {},
   "source": [
    "Under 18.5 = underweight <br>\n",
    "18.5-24.9 = Normal weight  <br>\n",
    "25 - 29.9 = overweight <br>\n",
    "30-34.9 = obese <br>\n",
    "35 - 39.9 = severely obese <br>\n",
    "40 and over = extremely obese"
   ]
  },
  {
   "cell_type": "code",
   "execution_count": 22,
   "id": "ddae341f",
   "metadata": {},
   "outputs": [
    {
     "name": "stdout",
     "output_type": "stream",
     "text": [
      "Aman, you are Normal weight\n"
     ]
    }
   ],
   "source": [
    "if BMI > 0:\n",
    "    if (BMI < 18.5):\n",
    "        print(f\"{name}, you are Underweight\")\n",
    "    elif (BMI >= 18.5  and BMI <= 24.9):\n",
    "        print(f\"{name}, you are Normal weight\")\n",
    "    elif (BMI >= 25  and BMI <=29.9):\n",
    "        print(f\"{name}, you are overweight\")\n",
    "    elif (BMI >= 30  and BMI <=34.9):\n",
    "        print(f\"{name}, you are in obese category\")\n",
    "    elif (BMI >= 35  and BMI <= 39.9):\n",
    "        print(f\"{name}, you are in severely obese category\")\n",
    "    else:\n",
    "        print(f\"{name}, you are in morbidly obese category\")\n",
    "else:\n",
    "    print(\"enter valid inputs\")\n",
    "    "
   ]
  },
  {
   "cell_type": "code",
   "execution_count": null,
   "id": "b00d7166",
   "metadata": {},
   "outputs": [],
   "source": []
  }
 ],
 "metadata": {
  "kernelspec": {
   "display_name": "Python 3 (ipykernel)",
   "language": "python",
   "name": "python3"
  },
  "language_info": {
   "codemirror_mode": {
    "name": "ipython",
    "version": 3
   },
   "file_extension": ".py",
   "mimetype": "text/x-python",
   "name": "python",
   "nbconvert_exporter": "python",
   "pygments_lexer": "ipython3",
   "version": "3.11.5"
  }
 },
 "nbformat": 4,
 "nbformat_minor": 5
}
