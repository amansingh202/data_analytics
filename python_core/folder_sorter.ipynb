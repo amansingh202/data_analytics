{
 "cells": [
  {
   "cell_type": "code",
   "execution_count": 27,
   "id": "bc3224e3",
   "metadata": {},
   "outputs": [],
   "source": [
    "import os, shutil"
   ]
  },
  {
   "cell_type": "code",
   "execution_count": 28,
   "id": "bf71acbd",
   "metadata": {},
   "outputs": [],
   "source": [
    "path = r'/Users/amansingh/Desktop/data_analytics/python_core/folder_sorter/'"
   ]
  },
  {
   "cell_type": "code",
   "execution_count": 29,
   "id": "4a0fc6db",
   "metadata": {},
   "outputs": [
    {
     "data": {
      "text/plain": [
       "['text files',\n",
       " '.DS_Store',\n",
       " 'houses.txt',\n",
       " 'Wa1.jpeg',\n",
       " 'ss.png',\n",
       " 'wa2.jpeg',\n",
       " 'image files',\n",
       " 'layoffs.csv',\n",
       " 'csv files']"
      ]
     },
     "execution_count": 29,
     "metadata": {},
     "output_type": "execute_result"
    }
   ],
   "source": [
    "os.listdir(path)"
   ]
  },
  {
   "cell_type": "code",
   "execution_count": 30,
   "id": "852f8261",
   "metadata": {},
   "outputs": [],
   "source": [
    "folder_lists = ['csv files', 'image files', 'text files']"
   ]
  },
  {
   "cell_type": "code",
   "execution_count": 31,
   "id": "210173da",
   "metadata": {},
   "outputs": [],
   "source": [
    "for folder in range(0,3):\n",
    "    if not os.path.exists(path + folder_lists[folder]):\n",
    "        print(path + folder_lists[folder])\n",
    "        os.makedirs(path + folder_lists[folder])"
   ]
  },
  {
   "cell_type": "code",
   "execution_count": 32,
   "id": "232777b9",
   "metadata": {},
   "outputs": [],
   "source": [
    "file_name = os.listdir(path)"
   ]
  },
  {
   "cell_type": "code",
   "execution_count": 33,
   "id": "31688703",
   "metadata": {},
   "outputs": [
    {
     "data": {
      "text/plain": [
       "['text files',\n",
       " '.DS_Store',\n",
       " 'houses.txt',\n",
       " 'Wa1.jpeg',\n",
       " 'ss.png',\n",
       " 'wa2.jpeg',\n",
       " 'image files',\n",
       " 'layoffs.csv',\n",
       " 'csv files']"
      ]
     },
     "execution_count": 33,
     "metadata": {},
     "output_type": "execute_result"
    }
   ],
   "source": [
    "file_name "
   ]
  },
  {
   "cell_type": "code",
   "execution_count": 34,
   "id": "708093d8",
   "metadata": {},
   "outputs": [
    {
     "name": "stdout",
     "output_type": "stream",
     "text": [
      "There were files in the path that were not moved\n",
      "There were files in the path that were not moved\n",
      "There were files in the path that were not moved\n",
      "There were files in the path that were not moved\n"
     ]
    }
   ],
   "source": [
    "for file in file_name:\n",
    "    if \".csv\" in file and not os.path.exists(path + \"csv files/\" + file):\n",
    "        shutil.move(path + file, path + \"csv files/\" + file)\n",
    "    elif \".jpeg\" in file and not os.path.exists(path + \"image files/\" + file):\n",
    "        shutil.move(path + file, path + \"image files/\" + file)\n",
    "    elif \".png\" in file and not os.path.exists(path + \"image files/\" + file):\n",
    "        shutil.move(path + file, path + \"image files/\" + file)\n",
    "    elif \".txt\" in file and not os.path.exists(path + \"text files/\" + file):\n",
    "        shutil.move(path + file, path + \"text files/\" + file)\n",
    "    "
   ]
  },
  {
   "cell_type": "code",
   "execution_count": null,
   "id": "adb28f2e",
   "metadata": {},
   "outputs": [],
   "source": []
  }
 ],
 "metadata": {
  "kernelspec": {
   "display_name": "Python 3 (ipykernel)",
   "language": "python",
   "name": "python3"
  },
  "language_info": {
   "codemirror_mode": {
    "name": "ipython",
    "version": 3
   },
   "file_extension": ".py",
   "mimetype": "text/x-python",
   "name": "python",
   "nbconvert_exporter": "python",
   "pygments_lexer": "ipython3",
   "version": "3.11.5"
  }
 },
 "nbformat": 4,
 "nbformat_minor": 5
}
