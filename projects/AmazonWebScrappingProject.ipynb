{
 "cells": [
  {
   "cell_type": "markdown",
   "id": "874bcabc-075c-474d-becc-8203f8349779",
   "metadata": {},
   "source": [
    "# Amazon Web Scrapping Project"
   ]
  },
  {
   "cell_type": "code",
   "execution_count": 2,
   "id": "de910db7-fdca-4cbf-8b15-dfe9d498484e",
   "metadata": {},
   "outputs": [],
   "source": [
    "from bs4 import BeautifulSoup\n",
    "import requests\n",
    "import time\n",
    "import requests\n",
    "import smtplib"
   ]
  },
  {
   "cell_type": "code",
   "execution_count": 37,
   "id": "befeced3-a2a1-4618-bffc-160d7869fadc",
   "metadata": {},
   "outputs": [
    {
     "name": "stdout",
     "output_type": "stream",
     "text": [
      "\n",
      "                   Funny Got Data MIS Data Systems Business Analyst T-Shirt\n",
      "                  \n",
      "$16.99\n"
     ]
    }
   ],
   "source": [
    "#connect to website\n",
    "Url = 'https://www.amazon.com/Funny-Data-Systems-Business-Analyst/dp/B07FNW9FGJ/ref=sr_1_3?dchild=1&keywords=data%2Banalyst%2Btshirt&qid=1626655184&sr=8-3&customId=B0752XJYNL&th=1'\n",
    "\n",
    "headers = {\"User-Agent\": \"Mozilla/5.0 (Windows NT 10.0; Win64; x64) AppleWebKit/537.36 (KHTML, like Gecko) Chrome/78.0.3904.108 Safari/537.36\", \"Accept-Encoding\":\"gzip, deflate\", \"Accept\":\"text/html,application/xhtml+xml,application/xml;q=0.9,*/*;q=0.8\", \"DNT\":\"1\",\"Connection\":\"close\", \"Upgrade-Insecure-Requests\":\"1\"}\n",
    "\n",
    "page = requests.get(Url)\n",
    "\n",
    "soup1 = BeautifulSoup(page.content, 'html.parser')\n",
    "\n",
    "soup2 = BeautifulSoup(soup1.prettify(), 'html.parser')\n",
    "\n",
    "title = soup2.find(id = 'productTitle').get_text()\n",
    "\n",
    "html_content = '''\n",
    "<div class=\"product\">\n",
    "    <span class=\"a-offscreen\">$16.99</span>\n",
    "</div>\n",
    "'''\n",
    "\n",
    "soup3 = BeautifulSoup(html_content, 'html.parser')\n",
    "\n",
    "price = soup3.find('span', class_=\"a-offscreen\").get_text()\n",
    "\n",
    "print(title)\n",
    "\n",
    "print(price)\n",
    "\n",
    "# <span class=\"a-offscreen\">$14.98</span>"
   ]
  },
  {
   "cell_type": "code",
   "execution_count": 38,
   "id": "ff5e00ca-8d5c-41e3-a675-b0aaa9794a1b",
   "metadata": {},
   "outputs": [
    {
     "data": {
      "text/plain": [
       "'16.99'"
      ]
     },
     "execution_count": 38,
     "metadata": {},
     "output_type": "execute_result"
    }
   ],
   "source": [
    "price = price.strip()[1:]\n",
    "price"
   ]
  },
  {
   "cell_type": "code",
   "execution_count": 42,
   "id": "560d5846-8df1-41b8-91d7-05e56f6e67cd",
   "metadata": {},
   "outputs": [],
   "source": [
    "import csv\n",
    "\n",
    "header = ['Title', 'Price']\n",
    "\n",
    "data = [title, price]\n",
    "\n",
    "with open('AmazonWebScrapperDataset.csv', 'w', newline = '', encoding = 'UTF8') as f:\n",
    "    writer = csv.writer(f)\n",
    "    writer.writerow(header)\n",
    "    writer.writerow(data)\n",
    "\n",
    "\n"
   ]
  },
  {
   "cell_type": "code",
   "execution_count": null,
   "id": "03a283b4-97a8-477c-9989-caae8a5a3ac6",
   "metadata": {},
   "outputs": [],
   "source": []
  }
 ],
 "metadata": {
  "kernelspec": {
   "display_name": "Python 3 (ipykernel)",
   "language": "python",
   "name": "python3"
  },
  "language_info": {
   "codemirror_mode": {
    "name": "ipython",
    "version": 3
   },
   "file_extension": ".py",
   "mimetype": "text/x-python",
   "name": "python",
   "nbconvert_exporter": "python",
   "pygments_lexer": "ipython3",
   "version": "3.12.4"
  }
 },
 "nbformat": 4,
 "nbformat_minor": 5
}
